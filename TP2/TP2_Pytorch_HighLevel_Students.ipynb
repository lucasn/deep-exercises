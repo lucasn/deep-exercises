{
 "cells": [
  {
   "cell_type": "markdown",
   "id": "0dcd7260-dc6e-4119-8a51-10538f2b8115",
   "metadata": {
    "id": "0dcd7260-dc6e-4119-8a51-10538f2b8115"
   },
   "source": [
    "# Utilisation de PyTorch à plus haut niveau"
   ]
  },
  {
   "cell_type": "markdown",
   "id": "25ca5da7-2405-424f-ba05-fd2245f54470",
   "metadata": {
    "id": "25ca5da7-2405-424f-ba05-fd2245f54470"
   },
   "source": [
    "Dans ce TP, on se familiarise avec les fonctionnalités de la librairie PyTorch pour la construction et l'apprentissage d'une architecture de réseau de neurones.\n",
    "\n",
    "On utilise à nouveau les données MNIST et on considère la même architecture \"dense\" (pas de Convolution ici) que dans le TP1.  Les images sont donc considérées comme des vecteurs de tailles 28*28.\n",
    "\n",
    "Attention, on rappelle que les architectures PyTorch prennent les données en lignes."
   ]
  },
  {
   "cell_type": "markdown",
   "id": "a384bb41-5fdf-441a-8cc1-c6285fb48ab8",
   "metadata": {
    "id": "a384bb41-5fdf-441a-8cc1-c6285fb48ab8"
   },
   "source": [
    "## 1 - Chargement et lecture des données"
   ]
  },
  {
   "cell_type": "markdown",
   "id": "d282b73d-6730-46e1-aa82-fb4b7046924a",
   "metadata": {
    "id": "d282b73d-6730-46e1-aa82-fb4b7046924a"
   },
   "source": [
    "PyTorch fournit deux classes `torch.utils.data.DataLoader` et `torch.utils.data.Dataset` pour utiliser des jeux de données pré-chargés ou des données externes.\n",
    "\n",
    " `Dataset` stocke les échantillons et les labels correspondants, tandis que  `DataLoader` fournit un itérateur pour un accès facile aux échantillons.\n",
    "\n",
    "En utilisant la classe `DataLoader`, on peut de manière générique appliquer des transformations à la volée pendant l'itération sur le jeu de données (arguments `transform` et `target_transform`), et faire en sorte que l'itération sur le tenseur fourni se fasse dans un ordre aléatoire (argument `shuffle`)."
   ]
  },
  {
   "cell_type": "markdown",
   "id": "13285f74-a4f7-4b46-aa95-72cb8d733407",
   "metadata": {
    "id": "13285f74-a4f7-4b46-aa95-72cb8d733407"
   },
   "source": [
    "**Vous pourrez vous aider de ce [tutorial](https://pytorch.org/tutorials/beginner/basics/data_tutorial.html#datasets-dataloaders) pour répondre aux questions de cette partie.**"
   ]
  },
  {
   "cell_type": "markdown",
   "id": "8014a278-15d8-4fe6-8460-6c24627b934a",
   "metadata": {
    "id": "8014a278-15d8-4fe6-8460-6c24627b934a"
   },
   "source": [
    "> Créer une composition des deux transformations à appliquer sur les images:\n",
    "> - La transformée `ToTensor` fait automatiquement la normalisation des pixels.\n",
    "> - La transformée `Lambda` permet d'appliquer une fonction quelconque, ici pour changer la forme du tenseur (d'une image en un vecteur).\n",
    "> - La transformée `Compose` permet la composition de transformations."
   ]
  },
  {
   "cell_type": "code",
   "execution_count": null,
   "id": "ffc3c8d3-41c4-4251-a31f-89803eebe1c1",
   "metadata": {
    "id": "ffc3c8d3-41c4-4251-a31f-89803eebe1c1"
   },
   "outputs": [],
   "source": [
    "## TODO ##"
   ]
  },
  {
   "cell_type": "markdown",
   "id": "f4a6db00-9f1b-4463-ae03-afbf4e8d6199",
   "metadata": {
    "id": "f4a6db00-9f1b-4463-ae03-afbf4e8d6199"
   },
   "source": [
    "> Créer des `DataLoader` pour les jeux de données d'entraînement et de test."
   ]
  },
  {
   "cell_type": "code",
   "execution_count": null,
   "id": "11d78d76-565e-49b7-bf70-2e9085679e48",
   "metadata": {
    "id": "11d78d76-565e-49b7-bf70-2e9085679e48",
    "scrolled": true
   },
   "outputs": [],
   "source": [
    "## TODO ##"
   ]
  },
  {
   "cell_type": "markdown",
   "id": "N0ZnIT1mF5_a",
   "metadata": {
    "id": "N0ZnIT1mF5_a"
   },
   "source": [
    "> Vérifier que vous pouvez extraire des échantillon batch de données d'apprentissage, en itérant sur le DataLoader construit."
   ]
  },
  {
   "cell_type": "code",
   "execution_count": null,
   "id": "ae751d56-6788-4319-9cdf-1a0cf80f5d05",
   "metadata": {
    "id": "ae751d56-6788-4319-9cdf-1a0cf80f5d05",
    "scrolled": true
   },
   "outputs": [],
   "source": [
    "## TODO ##"
   ]
  },
  {
   "cell_type": "markdown",
   "id": "bc34ed3a-60e1-4f21-8def-547b5d5c1cbc",
   "metadata": {
    "id": "bc34ed3a-60e1-4f21-8def-547b5d5c1cbc"
   },
   "source": [
    "## 2 - Différenciation automatique avec Autograd"
   ]
  },
  {
   "cell_type": "markdown",
   "id": "d4b4caad-3a8f-4429-acc1-4712d3e52011",
   "metadata": {
    "id": "d4b4caad-3a8f-4429-acc1-4712d3e52011"
   },
   "source": [
    "Pour calculer des gradients et mettre en oeuvre une descente de gradient, PyTorch dispose du moteur de différenciation automatique `torch.autograd`, qui permet le calcul automatique du gradient pour n'importe quel graphe computationnel."
   ]
  },
  {
   "cell_type": "markdown",
   "id": "05c1d15f-f4c2-4cff-a64a-aa767d243b62",
   "metadata": {
    "id": "05c1d15f-f4c2-4cff-a64a-aa767d243b62"
   },
   "source": [
    "**Consulter ce [tutorial](https://pytorch.org/tutorials/beginner/basics/autogradqs_tutorial.html) pour répondre aux questions de cette partie.**"
   ]
  },
  {
   "cell_type": "markdown",
   "id": "d2190d05-5abd-4793-aa57-44d4dfd3d5a5",
   "metadata": {
    "id": "d2190d05-5abd-4793-aa57-44d4dfd3d5a5"
   },
   "source": [
    ">  On considère la fonction\n",
    "$$ (w,b) \\in \\mathbb{R}^5  \\times \\mathbb R \\mapsto   \\sum_{j=0}^4  j  \\cdot\\left(\\sin (w_j) +b \\right)^2  .$$\n",
    "> En utilisant autograd, calculer le gradient de cette fontion au point w=0, b = 1."
   ]
  },
  {
   "cell_type": "code",
   "execution_count": null,
   "id": "9b3c4410-c7d6-4cd6-85d2-eb562ce968d2",
   "metadata": {
    "id": "9b3c4410-c7d6-4cd6-85d2-eb562ce968d2"
   },
   "outputs": [],
   "source": [
    "## TODO ##"
   ]
  },
  {
   "cell_type": "markdown",
   "id": "XKluI4LjXVFP",
   "metadata": {
    "id": "XKluI4LjXVFP"
   },
   "source": [
    "> Reprendre l'implémentation du réseau de neurone construit \"à la main dans le TP1\", en ne gardant que la méthodes `forward` qui ne renverra que l'activation de la dernière couche. On appellera `Net_sans_gradients` la classe ainsi créée.\n"
   ]
  },
  {
   "cell_type": "code",
   "execution_count": null,
   "id": "Z9UHGQVpLv2z",
   "metadata": {
    "id": "Z9UHGQVpLv2z"
   },
   "outputs": [],
   "source": [
    "## TODO ##"
   ]
  },
  {
   "cell_type": "markdown",
   "id": "6iOx7WfdPW02",
   "metadata": {
    "id": "6iOx7WfdPW02"
   },
   "source": [
    "> Vérifier ensuite que l'on peut obtenir à l'aide d'autograd le gradient de la perte [cross entropy](https://pytorch.org/docs/stable/generated/torch.nn.CrossEntropyLoss.html)  appliquée en sortie de ce réseau, par rapport aux paramètres du réseau,  sans avoir bien sûr à implémenter les expressions des gradients dans l'architecture."
   ]
  },
  {
   "cell_type": "code",
   "execution_count": null,
   "id": "mu6GfWKTLv7v",
   "metadata": {
    "id": "mu6GfWKTLv7v"
   },
   "outputs": [],
   "source": [
    "## TODO ##"
   ]
  },
  {
   "cell_type": "markdown",
   "id": "dfoau5_9YHq-",
   "metadata": {
    "id": "dfoau5_9YHq-"
   },
   "source": [
    "## 3 - Construction du réseau par la fonction Sequential\n",
    "\n",
    "\n",
    "La fonction [`torch.nn.Sequential`](https://pytorch.org/tutorials/beginner/basics/buildmodel_tutorial.html#nn-sequential) permet de construire facilement un réseau par couches successives.\n",
    "\n",
    "\n",
    "> Reconstruire le réseau du TP1 par un appel à `torch.nn.Sequential`. Vous appelerez `my_net2` le réseau ainsi créé.\n",
    "> On pourra afficher les paramètres du réseau avec la fonction `named_parameters`, afin de visualiser ce qui a été créé."
   ]
  },
  {
   "cell_type": "code",
   "execution_count": null,
   "id": "cWA--NSycB-6",
   "metadata": {
    "id": "cWA--NSycB-6"
   },
   "outputs": [],
   "source": [
    "## TODO ##"
   ]
  },
  {
   "cell_type": "markdown",
   "id": "S_D9aVo4kdVj",
   "metadata": {
    "id": "S_D9aVo4kdVj"
   },
   "source": [
    "On peut obtenir la réponse du réseau `my_net2` sur le tenseur a par `my_net2(a)`\n",
    "> Le réseau n'est pas encore entrainé. Vérifier que les valeurs de cross-entropy et la précision sont très mauvaises :\n",
    "- sur un batch de l'échantillon d'apprentissage,\n",
    "- sur l'échantillon d'apprentissage complet,\n",
    "- sur l'échantillon de test complet.   \n",
    ">\n",
    "> On pourra par exemple utiliser la fonction [`accuracy`](https://lightning.ai/docs/torchmetrics/stable/classification/accuracy.html#id3) de `torchmetrics`."
   ]
  },
  {
   "cell_type": "code",
   "execution_count": null,
   "id": "XMwodtIji6O0",
   "metadata": {
    "id": "XMwodtIji6O0"
   },
   "outputs": [],
   "source": [
    "## TODO ##"
   ]
  },
  {
   "cell_type": "markdown",
   "id": "d2q12lcevmsJ",
   "metadata": {
    "id": "d2q12lcevmsJ"
   },
   "source": [
    "## 4 - Entraînement\n",
    "\n"
   ]
  },
  {
   "cell_type": "markdown",
   "id": "3dLWWUUpfNss",
   "metadata": {
    "id": "3dLWWUUpfNss"
   },
   "source": [
    "> Calculer la [cross entropy](https://pytorch.org/docs/stable/generated/torch.nn.CrossEntropyLoss.html) pour un échantillon batch entre les probabilités prédites par `my_net2` et les vrais labels du batch."
   ]
  },
  {
   "cell_type": "code",
   "execution_count": null,
   "id": "56lkNEb_hXMe",
   "metadata": {
    "id": "56lkNEb_hXMe"
   },
   "outputs": [],
   "source": [
    "## TODO ##"
   ]
  },
  {
   "cell_type": "markdown",
   "id": "Kc9Uf2wIwFtS",
   "metadata": {
    "id": "Kc9Uf2wIwFtS"
   },
   "source": [
    "Pour entraîner le modèle, c'est à dire ajuster les poids et les biais, nous allons mettre en œuvre une descente de gradient stochastique avec comme fonction objective la perte de cross validation (appliquée en sortie du réseau).\n",
    "\n",
    "Il faut pour cela choisir un optimiseur ; lire ce [tutorial](https://pytorch.org/docs/stable/optim.html).\n",
    "\n",
    "On choisit ici d'utiliser l'optimiseur de descente de gradient standard, disponible dans Pytorch par la fonction [SGD](https://pytorch.org/docs/stable/generated/torch.optim.SGD.html#torch.optim.SGD).\n",
    "\n",
    "> Construire un batch avec le dataloader en prenant m =256.   "
   ]
  },
  {
   "cell_type": "code",
   "execution_count": null,
   "id": "5B0g37D23u99",
   "metadata": {
    "id": "5B0g37D23u99"
   },
   "outputs": [],
   "source": [
    "## TODO ##"
   ]
  },
  {
   "cell_type": "markdown",
   "id": "COcuMiSi7Tgp",
   "metadata": {
    "id": "COcuMiSi7Tgp"
   },
   "source": [
    "> En adaptant la boucle proposée [ici](https://pytorch.org/docs/stable/optim.html#taking-an-optimization-step) dans le tutoriel, effectuer une succsession de pas de descente de gradient sur la perte calculée à chaque fois sur un élément du batch.  \n",
    "> Assurez-vous de bien comprendre le sens de chacune des commandes de la boucle :\n",
    "> - quel est le sens de l'instruction `loss.backward()`\n",
    "> - Pourquoi est-il nécessaire d'appeler l'instruction `optimizer.zero_grad()` à chaque passage de la boucle ?  \n",
    "> Répéter plusieurs fois la descente de gradient le long du batch. Vérifier que le taux d'erreur du réseau calculé sur le bacth diminue effectivement le long de la descente de gradient."
   ]
  },
  {
   "cell_type": "code",
   "execution_count": null,
   "id": "wG7a21Hy2D5a",
   "metadata": {
    "id": "wG7a21Hy2D5a"
   },
   "outputs": [],
   "source": [
    "## TODO ##"
   ]
  },
  {
   "cell_type": "markdown",
   "id": "ncTD4Idf9HM8",
   "metadata": {
    "id": "ncTD4Idf9HM8"
   },
   "source": [
    "L'approche précédente enchaîne des pas de gradient tels que chaque pas de gradient n'est calculé que sur un seul élément du batch, ce qui n'est pas la même chose que d'effectuer un seul pas de gradient calculé (cumulé) sur tout le batch (batch-SGD).\n",
    "\n",
    "Nous allons maintenant entraîner le réseau sur des batchs sucessifs avec une descente de gradiant SGD par batch, ce qui est l'approche standard pour entraîner un réseau.\n",
    "\n",
    "> Redéfinir un DataLoader pour des batchs de taille m = 64.\n",
    "\n",
    "\n"
   ]
  },
  {
   "cell_type": "code",
   "execution_count": null,
   "id": "VC5n34IZZ1uz",
   "metadata": {
    "id": "VC5n34IZZ1uz"
   },
   "outputs": [],
   "source": [
    "## TODO ##"
   ]
  },
  {
   "cell_type": "markdown",
   "id": "W7kDieSlZ23Q",
   "metadata": {
    "id": "W7kDieSlZ23Q"
   },
   "source": [
    "\n",
    "> Utiliser la fonction `train_loop` proposée à [cette page](https://pytorch.org/tutorials/beginner/basics/optimization_tutorial.html) pour ajuster les poids de `my_net2`. Il n'est pas nécessaire de réinitialiser les poids de `my_net2`, vous pouvez tout simplement repartir de l'état actuel du réseau.\n",
    "> Assurez-vous de bien comprendre chaque ligne de la fonction `train_loop`.\n",
    "\n",
    "> Evaluer les performances du réseau sur l'échantillon test, en utilisant par exemple la fonction `test_loop` proposée sur cette même [page](https://pytorch.org/tutorials/beginner/basics/optimization_tutorial.html)."
   ]
  },
  {
   "cell_type": "code",
   "execution_count": null,
   "id": "wy_YYPhc--5h",
   "metadata": {
    "id": "wy_YYPhc--5h"
   },
   "outputs": [],
   "source": [
    "## TODO ##"
   ]
  },
  {
   "cell_type": "markdown",
   "id": "OdIfWdeBMZyq",
   "metadata": {
    "id": "OdIfWdeBMZyq"
   },
   "source": [
    "## 5 - Modules  \n",
    "\n",
    "La bibliothèque dédiée à la conception d'architecture de Pytorch se base sur la classe `Module`.\n",
    "\n",
    "De façon générale, les fonctionnalités de cette bibliothèque permettent de définir soi-même des classes, qui héritent de la classe `Module` (attention les constructeurs devront réaliser l'appel `super().__init__()`).\n",
    "\n",
    "Cette approche permet un contrôle plus fin et une utilisation beaucoup plus riche des réseaux, qu'avec la classe `Sequential` utilisée plus haut.\n",
    "\n",
    "> En consultant cette [page](https://pytorch.org/tutorials/beginner/introyt/modelsyt_tutorial.html), implémenter une classe `Net_avec_Module` pour définir la même architecture qu'utilisée précédemment."
   ]
  },
  {
   "cell_type": "code",
   "execution_count": null,
   "id": "p4jTosrXCPj0",
   "metadata": {
    "id": "p4jTosrXCPj0"
   },
   "outputs": [],
   "source": [
    "## TODO ##"
   ]
  },
  {
   "cell_type": "markdown",
   "id": "GhVLy2roTnFG",
   "metadata": {
    "id": "GhVLy2roTnFG"
   },
   "source": [
    "> Instancier un réseau `net3` de classe `Net_avec_Module`/ Entrainer ce réseau sur les données MNIST et évaluer l'erreur de test."
   ]
  },
  {
   "cell_type": "code",
   "execution_count": null,
   "id": "_e0Zp49em01f",
   "metadata": {
    "id": "_e0Zp49em01f"
   },
   "outputs": [],
   "source": [
    "## TODO ##"
   ]
  },
  {
   "cell_type": "markdown",
   "id": "htnIg_hicysA",
   "metadata": {
    "id": "htnIg_hicysA"
   },
   "source": [
    "## 6 - Extraction et modification des matrices de poids\n",
    "\n",
    "Un réseau vient avec la collection de ses matrices de poids et de ses biais, dont les valeurs évoluent pendant la descente de gradient.\n",
    "\n",
    "Il existe plusieurs façons d'afficher les poids d'un réseau:\n",
    "- avec le dictionnaire `state_dict()`\n",
    "- avec les listes de `named_parameters()`\n",
    "- en appelant directement la couche par son nom, comme indiqué dans la classe défini avec module.\n",
    "\n",
    "> Instancier un nouveau réseau `net4` de la classe `Net_avec_Module`. Ne l'entrainez pas pour le moment, car nous voulons ainsi vérifier avec ce qui suit que les poids et les biais ne sont pas initialisés à 0."
   ]
  },
  {
   "cell_type": "code",
   "execution_count": null,
   "id": "HLH6s8oqjeXH",
   "metadata": {
    "id": "HLH6s8oqjeXH"
   },
   "outputs": [],
   "source": [
    "## TODO ##"
   ]
  },
  {
   "cell_type": "markdown",
   "id": "vS73-IJfMnqB",
   "metadata": {
    "id": "vS73-IJfMnqB"
   },
   "source": [
    "### Avec `state_dict()`\n",
    "\n",
    "La méthode `state_dict()` retourne un dictionnaire contenant une correspondance entre les noms des couches et leurs paramètres associés.\n",
    "\n",
    "> Itérer sur les clés du dictionnaire pour afficher ces dernières."
   ]
  },
  {
   "cell_type": "code",
   "execution_count": null,
   "id": "9WZplNIbXnjZ",
   "metadata": {
    "id": "9WZplNIbXnjZ"
   },
   "outputs": [],
   "source": [
    "## TODO ##"
   ]
  },
  {
   "cell_type": "markdown",
   "id": "a2inDJVjYQid",
   "metadata": {
    "id": "a2inDJVjYQid"
   },
   "source": [
    "Pour accéder aux poids d'une couche spécifique, on utilise  le dictionnaire `state_dict` avec le nom de la couche.\n",
    "> Afficher les poids et les biais de la deuxième couche"
   ]
  },
  {
   "cell_type": "code",
   "execution_count": null,
   "id": "coQLMJvhb480",
   "metadata": {
    "id": "coQLMJvhb480"
   },
   "outputs": [],
   "source": [
    "## TODO ##"
   ]
  },
  {
   "cell_type": "markdown",
   "id": "UJC3nFTFbrYL",
   "metadata": {
    "id": "UJC3nFTFbrYL"
   },
   "source": [
    "### Avec `named_parameters()`\n",
    "\n",
    "On peut aussi afficher les valeurs des paramètres à l'aide de la méthode `named_parameters()`, qui itère le long du modèle en fournissant  les noms des couches et les paramètres,  sous forme de tuples (nom, paramètre).\n",
    "> Afficher l'ensemble des paramètres du modèle en itérer le long du modèle."
   ]
  },
  {
   "cell_type": "code",
   "execution_count": null,
   "id": "ZmX2V1OFM55k",
   "metadata": {
    "id": "ZmX2V1OFM55k"
   },
   "outputs": [],
   "source": [
    "## TODO ##"
   ]
  },
  {
   "cell_type": "markdown",
   "id": "szqzWGlJgFSQ",
   "metadata": {
    "id": "szqzWGlJgFSQ"
   },
   "source": [
    "### Directement par nom de couche\n",
    "\n",
    "On peut aussi directement accéder aux biais et poids en utilisant le nom de la couche:"
   ]
  },
  {
   "cell_type": "code",
   "execution_count": null,
   "id": "HSMHa92YgF6f",
   "metadata": {
    "id": "HSMHa92YgF6f"
   },
   "outputs": [],
   "source": [
    "## TODO ##"
   ]
  },
  {
   "cell_type": "markdown",
   "id": "Sb4kMNDFfaZ3",
   "metadata": {
    "id": "Sb4kMNDFfaZ3"
   },
   "source": [
    "> Modifier le biais de la deuxième couche en lui imposant la valeur $V = [1,2,3,1,2,3,1,2,3,1,1,1,2,3,1,2,3,1,2,3]$."
   ]
  },
  {
   "cell_type": "code",
   "execution_count": null,
   "id": "xWRVaDNJfbKS",
   "metadata": {
    "id": "xWRVaDNJfbKS"
   },
   "outputs": [],
   "source": [
    "## TODO ##"
   ]
  },
  {
   "cell_type": "markdown",
   "id": "dKFrXpuCfwlS",
   "metadata": {
    "id": "dKFrXpuCfwlS"
   },
   "source": [
    "> Manipuler ainsi les poids du réseau à la main peut parfois empecher le cacul des gradients sur les itérations suivantes de la descente de gradient.\n",
    "> Vérifier que les dérivées partielles par rapport au biais seront bien \"maintenues\" par autograd, et assurez-vous enfin qu'il est toujours possible d'entrainer le modèle (attention à préciser les nouveaux poids à optimiser dans `optimizer`).\n"
   ]
  },
  {
   "cell_type": "code",
   "execution_count": null,
   "id": "4OsVrhmWebvv",
   "metadata": {
    "id": "4OsVrhmWebvv"
   },
   "outputs": [],
   "source": [
    "## TODO ##"
   ]
  },
  {
   "cell_type": "markdown",
   "id": "IIw-EVfZl6n2",
   "metadata": {
    "id": "IIw-EVfZl6n2"
   },
   "source": [
    "> Vérifier que les biais sont bien impactés par la descente de gradient."
   ]
  },
  {
   "cell_type": "code",
   "execution_count": null,
   "id": "raL7c-tAqT87",
   "metadata": {
    "id": "raL7c-tAqT87"
   },
   "outputs": [],
   "source": [
    "## TODO ##"
   ]
  },
  {
   "cell_type": "markdown",
   "id": "7CHYE94NecMD",
   "metadata": {
    "id": "7CHYE94NecMD"
   },
   "source": [
    "> Comment faire pour \"geler\" une couche de poids ou de biais, c'est à dire ne pas faire de pas de gradient dans les directions qui correspondent à ces quantités à geler ?"
   ]
  },
  {
   "cell_type": "code",
   "execution_count": null,
   "id": "o_IIvvRefUoa",
   "metadata": {
    "id": "o_IIvvRefUoa"
   },
   "outputs": [],
   "source": [
    "## TODO ##"
   ]
  },
  {
   "cell_type": "markdown",
   "id": "moyfeO_ufXvM",
   "metadata": {
    "id": "moyfeO_ufXvM"
   },
   "source": [
    "## 6 - Initialisation"
   ]
  },
  {
   "cell_type": "markdown",
   "id": "iCTuI4Qse-ch",
   "metadata": {
    "id": "iCTuI4Qse-ch"
   },
   "source": [
    "Il existe de nombreuses stratégies pour initialiser les couches d'un réseau (avant d'effectuer l'apprentissage par descente de gradient).\n",
    "\n",
    "On s'intéresse à plusieurs stratégies: poids à zero, poids constants, loi uniforme, loi normale, méthode de Xavier...\n",
    "\n",
    "\n",
    "> En utilisant les fonctionnalités du module [torch.nn.init](https://pytorch.org/docs/stable/nn.init.html), comparer ces initialisations en comparant les pertes et les taux de bon classement après un certain nombre d'épochs.\n"
   ]
  },
  {
   "cell_type": "code",
   "execution_count": null,
   "id": "Vql-tTBwfUev",
   "metadata": {
    "id": "Vql-tTBwfUev"
   },
   "outputs": [],
   "source": [
    "## TODO ##"
   ]
  },
  {
   "cell_type": "markdown",
   "id": "WAXX6J6fr1Z-",
   "metadata": {
    "id": "WAXX6J6fr1Z-"
   },
   "source": [
    "\n",
    "> Bonus : vérifier les distributions des poids initialisés correspond bien à ce qui est annoncé"
   ]
  },
  {
   "cell_type": "code",
   "execution_count": null,
   "id": "y2xB0lFrCPfa",
   "metadata": {
    "id": "y2xB0lFrCPfa"
   },
   "outputs": [],
   "source": [
    "## TODO ##"
   ]
  }
 ],
 "metadata": {
  "colab": {
   "provenance": [],
   "toc_visible": true
  },
  "kernelspec": {
   "display_name": "deep",
   "language": "python",
   "name": "python3"
  },
  "language_info": {
   "codemirror_mode": {
    "name": "ipython",
    "version": 3
   },
   "file_extension": ".py",
   "mimetype": "text/x-python",
   "name": "python",
   "nbconvert_exporter": "python",
   "pygments_lexer": "ipython3",
   "version": "3.13.0"
  }
 },
 "nbformat": 4,
 "nbformat_minor": 5
}
